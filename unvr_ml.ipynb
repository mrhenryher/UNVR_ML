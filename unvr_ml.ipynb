{
 "cells": [
  {
   "cell_type": "code",
   "execution_count": 1,
   "metadata": {},
   "outputs": [],
   "source": [
    "import numpy as np\n",
    "import pandas as pd\n",
    "import matplotlib.pyplot as plt\n",
    "import datetime as dt\n",
    "import pandas_datareader.data as web\n",
    "import talib as tlb\n",
    "import seaborn as sns\n",
    "import talib\n",
    "from sklearn.metrics import confusion_matrix"
   ]
  },
  {
   "cell_type": "code",
   "execution_count": 2,
   "metadata": {},
   "outputs": [],
   "source": [
    "start = dt.datetime(2014,1,1)\n",
    "finish = dt.datetime.today()\n",
    "source = 'yahoo'"
   ]
  },
  {
   "cell_type": "code",
   "execution_count": 3,
   "metadata": {},
   "outputs": [],
   "source": [
    "df = web.DataReader('UNVR.JK', source, start, finish)"
   ]
  },
  {
   "cell_type": "code",
   "execution_count": 4,
   "metadata": {},
   "outputs": [
    {
     "data": {
      "text/html": [
       "<div>\n",
       "<style scoped>\n",
       "    .dataframe tbody tr th:only-of-type {\n",
       "        vertical-align: middle;\n",
       "    }\n",
       "\n",
       "    .dataframe tbody tr th {\n",
       "        vertical-align: top;\n",
       "    }\n",
       "\n",
       "    .dataframe thead th {\n",
       "        text-align: right;\n",
       "    }\n",
       "</style>\n",
       "<table border=\"1\" class=\"dataframe\">\n",
       "  <thead>\n",
       "    <tr style=\"text-align: right;\">\n",
       "      <th></th>\n",
       "      <th>High</th>\n",
       "      <th>Low</th>\n",
       "      <th>Open</th>\n",
       "      <th>Close</th>\n",
       "      <th>Volume</th>\n",
       "      <th>Adj Close</th>\n",
       "    </tr>\n",
       "    <tr>\n",
       "      <th>Date</th>\n",
       "      <th></th>\n",
       "      <th></th>\n",
       "      <th></th>\n",
       "      <th></th>\n",
       "      <th></th>\n",
       "      <th></th>\n",
       "    </tr>\n",
       "  </thead>\n",
       "  <tbody>\n",
       "    <tr>\n",
       "      <th>2014-01-02</th>\n",
       "      <td>5360.0</td>\n",
       "      <td>5280.0</td>\n",
       "      <td>5280.0</td>\n",
       "      <td>5360.0</td>\n",
       "      <td>6175000.0</td>\n",
       "      <td>2777.326660</td>\n",
       "    </tr>\n",
       "    <tr>\n",
       "      <th>2014-01-03</th>\n",
       "      <td>5360.0</td>\n",
       "      <td>5240.0</td>\n",
       "      <td>5290.0</td>\n",
       "      <td>5300.0</td>\n",
       "      <td>8817500.0</td>\n",
       "      <td>2746.237305</td>\n",
       "    </tr>\n",
       "    <tr>\n",
       "      <th>2014-01-06</th>\n",
       "      <td>5360.0</td>\n",
       "      <td>5280.0</td>\n",
       "      <td>5360.0</td>\n",
       "      <td>5350.0</td>\n",
       "      <td>6357500.0</td>\n",
       "      <td>2772.144775</td>\n",
       "    </tr>\n",
       "    <tr>\n",
       "      <th>2014-01-07</th>\n",
       "      <td>5360.0</td>\n",
       "      <td>5240.0</td>\n",
       "      <td>5350.0</td>\n",
       "      <td>5240.0</td>\n",
       "      <td>7055500.0</td>\n",
       "      <td>2715.147949</td>\n",
       "    </tr>\n",
       "    <tr>\n",
       "      <th>2014-01-08</th>\n",
       "      <td>5315.0</td>\n",
       "      <td>5185.0</td>\n",
       "      <td>5280.0</td>\n",
       "      <td>5240.0</td>\n",
       "      <td>10381500.0</td>\n",
       "      <td>2715.147949</td>\n",
       "    </tr>\n",
       "  </tbody>\n",
       "</table>\n",
       "</div>"
      ],
      "text/plain": [
       "              High     Low    Open   Close      Volume    Adj Close\n",
       "Date                                                               \n",
       "2014-01-02  5360.0  5280.0  5280.0  5360.0   6175000.0  2777.326660\n",
       "2014-01-03  5360.0  5240.0  5290.0  5300.0   8817500.0  2746.237305\n",
       "2014-01-06  5360.0  5280.0  5360.0  5350.0   6357500.0  2772.144775\n",
       "2014-01-07  5360.0  5240.0  5350.0  5240.0   7055500.0  2715.147949\n",
       "2014-01-08  5315.0  5185.0  5280.0  5240.0  10381500.0  2715.147949"
      ]
     },
     "execution_count": 4,
     "metadata": {},
     "output_type": "execute_result"
    }
   ],
   "source": [
    "df.head()"
   ]
  },
  {
   "cell_type": "code",
   "execution_count": 5,
   "metadata": {},
   "outputs": [],
   "source": [
    "data = pd.DataFrame(index=df.index)\n",
    "data[\"Today\"] = df[\"Adj Close\"]\n",
    "#tslag[\"Volume\"] = df[\"Volume\"]"
   ]
  },
  {
   "cell_type": "code",
   "execution_count": 6,
   "metadata": {},
   "outputs": [],
   "source": [
    "data['pct change']  = data['Today'].pct_change()"
   ]
  },
  {
   "cell_type": "code",
   "execution_count": 7,
   "metadata": {},
   "outputs": [],
   "source": [
    "data['direction'] = np.sign(data['pct change'])"
   ]
  },
  {
   "cell_type": "code",
   "execution_count": 8,
   "metadata": {},
   "outputs": [],
   "source": [
    "for n in [5, 14, 30, 50]:\n",
    "\n",
    "    # Create the moving average indicator and divide by Adj_Close\n",
    "    data['ma' + str(n)] = tlb.SMA(data[\"Today\"].values,\n",
    "                              timeperiod=n) / data[\"Today\"]\n",
    "    # Create the RSI indicator\n",
    "    data['rsi' + str(n)] = tlb.RSI(data[\"Today\"].values/data[\"Today\"], timeperiod=n)"
   ]
  },
  {
   "cell_type": "code",
   "execution_count": 9,
   "metadata": {},
   "outputs": [
    {
     "data": {
      "text/html": [
       "<div>\n",
       "<style scoped>\n",
       "    .dataframe tbody tr th:only-of-type {\n",
       "        vertical-align: middle;\n",
       "    }\n",
       "\n",
       "    .dataframe tbody tr th {\n",
       "        vertical-align: top;\n",
       "    }\n",
       "\n",
       "    .dataframe thead th {\n",
       "        text-align: right;\n",
       "    }\n",
       "</style>\n",
       "<table border=\"1\" class=\"dataframe\">\n",
       "  <thead>\n",
       "    <tr style=\"text-align: right;\">\n",
       "      <th></th>\n",
       "      <th>Today</th>\n",
       "      <th>pct change</th>\n",
       "      <th>direction</th>\n",
       "      <th>ma5</th>\n",
       "      <th>rsi5</th>\n",
       "      <th>ma14</th>\n",
       "      <th>rsi14</th>\n",
       "      <th>ma30</th>\n",
       "      <th>rsi30</th>\n",
       "      <th>ma50</th>\n",
       "      <th>rsi50</th>\n",
       "    </tr>\n",
       "    <tr>\n",
       "      <th>Date</th>\n",
       "      <th></th>\n",
       "      <th></th>\n",
       "      <th></th>\n",
       "      <th></th>\n",
       "      <th></th>\n",
       "      <th></th>\n",
       "      <th></th>\n",
       "      <th></th>\n",
       "      <th></th>\n",
       "      <th></th>\n",
       "      <th></th>\n",
       "    </tr>\n",
       "  </thead>\n",
       "  <tbody>\n",
       "    <tr>\n",
       "      <th>2014-01-02</th>\n",
       "      <td>2777.326660</td>\n",
       "      <td>NaN</td>\n",
       "      <td>NaN</td>\n",
       "      <td>NaN</td>\n",
       "      <td>NaN</td>\n",
       "      <td>NaN</td>\n",
       "      <td>NaN</td>\n",
       "      <td>NaN</td>\n",
       "      <td>NaN</td>\n",
       "      <td>NaN</td>\n",
       "      <td>NaN</td>\n",
       "    </tr>\n",
       "    <tr>\n",
       "      <th>2014-01-03</th>\n",
       "      <td>2746.237305</td>\n",
       "      <td>-0.011194</td>\n",
       "      <td>-1.0</td>\n",
       "      <td>NaN</td>\n",
       "      <td>NaN</td>\n",
       "      <td>NaN</td>\n",
       "      <td>NaN</td>\n",
       "      <td>NaN</td>\n",
       "      <td>NaN</td>\n",
       "      <td>NaN</td>\n",
       "      <td>NaN</td>\n",
       "    </tr>\n",
       "    <tr>\n",
       "      <th>2014-01-06</th>\n",
       "      <td>2772.144775</td>\n",
       "      <td>0.009434</td>\n",
       "      <td>1.0</td>\n",
       "      <td>NaN</td>\n",
       "      <td>NaN</td>\n",
       "      <td>NaN</td>\n",
       "      <td>NaN</td>\n",
       "      <td>NaN</td>\n",
       "      <td>NaN</td>\n",
       "      <td>NaN</td>\n",
       "      <td>NaN</td>\n",
       "    </tr>\n",
       "    <tr>\n",
       "      <th>2014-01-07</th>\n",
       "      <td>2715.147949</td>\n",
       "      <td>-0.020561</td>\n",
       "      <td>-1.0</td>\n",
       "      <td>NaN</td>\n",
       "      <td>NaN</td>\n",
       "      <td>NaN</td>\n",
       "      <td>NaN</td>\n",
       "      <td>NaN</td>\n",
       "      <td>NaN</td>\n",
       "      <td>NaN</td>\n",
       "      <td>NaN</td>\n",
       "    </tr>\n",
       "    <tr>\n",
       "      <th>2014-01-08</th>\n",
       "      <td>2715.147949</td>\n",
       "      <td>0.000000</td>\n",
       "      <td>0.0</td>\n",
       "      <td>1.011069</td>\n",
       "      <td>NaN</td>\n",
       "      <td>NaN</td>\n",
       "      <td>NaN</td>\n",
       "      <td>NaN</td>\n",
       "      <td>NaN</td>\n",
       "      <td>NaN</td>\n",
       "      <td>NaN</td>\n",
       "    </tr>\n",
       "    <tr>\n",
       "      <th>2014-01-09</th>\n",
       "      <td>2702.194092</td>\n",
       "      <td>-0.004771</td>\n",
       "      <td>-1.0</td>\n",
       "      <td>1.010355</td>\n",
       "      <td>0.0</td>\n",
       "      <td>NaN</td>\n",
       "      <td>NaN</td>\n",
       "      <td>NaN</td>\n",
       "      <td>NaN</td>\n",
       "      <td>NaN</td>\n",
       "      <td>NaN</td>\n",
       "    </tr>\n",
       "    <tr>\n",
       "      <th>2014-01-10</th>\n",
       "      <td>2684.058594</td>\n",
       "      <td>-0.006711</td>\n",
       "      <td>-1.0</td>\n",
       "      <td>1.012548</td>\n",
       "      <td>0.0</td>\n",
       "      <td>NaN</td>\n",
       "      <td>NaN</td>\n",
       "      <td>NaN</td>\n",
       "      <td>NaN</td>\n",
       "      <td>NaN</td>\n",
       "      <td>NaN</td>\n",
       "    </tr>\n",
       "    <tr>\n",
       "      <th>2014-01-13</th>\n",
       "      <td>2800.644043</td>\n",
       "      <td>0.043436</td>\n",
       "      <td>1.0</td>\n",
       "      <td>0.972433</td>\n",
       "      <td>0.0</td>\n",
       "      <td>NaN</td>\n",
       "      <td>NaN</td>\n",
       "      <td>NaN</td>\n",
       "      <td>NaN</td>\n",
       "      <td>NaN</td>\n",
       "      <td>NaN</td>\n",
       "    </tr>\n",
       "    <tr>\n",
       "      <th>2014-01-15</th>\n",
       "      <td>2904.275635</td>\n",
       "      <td>0.037003</td>\n",
       "      <td>1.0</td>\n",
       "      <td>0.950758</td>\n",
       "      <td>0.0</td>\n",
       "      <td>NaN</td>\n",
       "      <td>NaN</td>\n",
       "      <td>NaN</td>\n",
       "      <td>NaN</td>\n",
       "      <td>NaN</td>\n",
       "      <td>NaN</td>\n",
       "    </tr>\n",
       "    <tr>\n",
       "      <th>2014-01-16</th>\n",
       "      <td>2880.958252</td>\n",
       "      <td>-0.008029</td>\n",
       "      <td>-1.0</td>\n",
       "      <td>0.969964</td>\n",
       "      <td>0.0</td>\n",
       "      <td>NaN</td>\n",
       "      <td>NaN</td>\n",
       "      <td>NaN</td>\n",
       "      <td>NaN</td>\n",
       "      <td>NaN</td>\n",
       "      <td>NaN</td>\n",
       "    </tr>\n",
       "  </tbody>\n",
       "</table>\n",
       "</div>"
      ],
      "text/plain": [
       "                  Today  pct change  direction       ma5  rsi5  ma14  rsi14  \\\n",
       "Date                                                                          \n",
       "2014-01-02  2777.326660         NaN        NaN       NaN   NaN   NaN    NaN   \n",
       "2014-01-03  2746.237305   -0.011194       -1.0       NaN   NaN   NaN    NaN   \n",
       "2014-01-06  2772.144775    0.009434        1.0       NaN   NaN   NaN    NaN   \n",
       "2014-01-07  2715.147949   -0.020561       -1.0       NaN   NaN   NaN    NaN   \n",
       "2014-01-08  2715.147949    0.000000        0.0  1.011069   NaN   NaN    NaN   \n",
       "2014-01-09  2702.194092   -0.004771       -1.0  1.010355   0.0   NaN    NaN   \n",
       "2014-01-10  2684.058594   -0.006711       -1.0  1.012548   0.0   NaN    NaN   \n",
       "2014-01-13  2800.644043    0.043436        1.0  0.972433   0.0   NaN    NaN   \n",
       "2014-01-15  2904.275635    0.037003        1.0  0.950758   0.0   NaN    NaN   \n",
       "2014-01-16  2880.958252   -0.008029       -1.0  0.969964   0.0   NaN    NaN   \n",
       "\n",
       "            ma30  rsi30  ma50  rsi50  \n",
       "Date                                  \n",
       "2014-01-02   NaN    NaN   NaN    NaN  \n",
       "2014-01-03   NaN    NaN   NaN    NaN  \n",
       "2014-01-06   NaN    NaN   NaN    NaN  \n",
       "2014-01-07   NaN    NaN   NaN    NaN  \n",
       "2014-01-08   NaN    NaN   NaN    NaN  \n",
       "2014-01-09   NaN    NaN   NaN    NaN  \n",
       "2014-01-10   NaN    NaN   NaN    NaN  \n",
       "2014-01-13   NaN    NaN   NaN    NaN  \n",
       "2014-01-15   NaN    NaN   NaN    NaN  \n",
       "2014-01-16   NaN    NaN   NaN    NaN  "
      ]
     },
     "execution_count": 9,
     "metadata": {},
     "output_type": "execute_result"
    }
   ],
   "source": [
    "data.head(10)"
   ]
  },
  {
   "cell_type": "code",
   "execution_count": 10,
   "metadata": {},
   "outputs": [],
   "source": [
    "data.dropna(inplace = True)"
   ]
  },
  {
   "cell_type": "code",
   "execution_count": 11,
   "metadata": {},
   "outputs": [
    {
     "data": {
      "text/html": [
       "<div>\n",
       "<style scoped>\n",
       "    .dataframe tbody tr th:only-of-type {\n",
       "        vertical-align: middle;\n",
       "    }\n",
       "\n",
       "    .dataframe tbody tr th {\n",
       "        vertical-align: top;\n",
       "    }\n",
       "\n",
       "    .dataframe thead th {\n",
       "        text-align: right;\n",
       "    }\n",
       "</style>\n",
       "<table border=\"1\" class=\"dataframe\">\n",
       "  <thead>\n",
       "    <tr style=\"text-align: right;\">\n",
       "      <th></th>\n",
       "      <th>Today</th>\n",
       "      <th>pct change</th>\n",
       "      <th>direction</th>\n",
       "      <th>ma5</th>\n",
       "      <th>rsi5</th>\n",
       "      <th>ma14</th>\n",
       "      <th>rsi14</th>\n",
       "      <th>ma30</th>\n",
       "      <th>rsi30</th>\n",
       "      <th>ma50</th>\n",
       "      <th>rsi50</th>\n",
       "    </tr>\n",
       "    <tr>\n",
       "      <th>Date</th>\n",
       "      <th></th>\n",
       "      <th></th>\n",
       "      <th></th>\n",
       "      <th></th>\n",
       "      <th></th>\n",
       "      <th></th>\n",
       "      <th></th>\n",
       "      <th></th>\n",
       "      <th></th>\n",
       "      <th></th>\n",
       "      <th></th>\n",
       "    </tr>\n",
       "  </thead>\n",
       "  <tbody>\n",
       "    <tr>\n",
       "      <th>2014-03-17</th>\n",
       "      <td>3080.449463</td>\n",
       "      <td>-0.037247</td>\n",
       "      <td>-1.0</td>\n",
       "      <td>0.998318</td>\n",
       "      <td>0.0</td>\n",
       "      <td>0.966238</td>\n",
       "      <td>0.0</td>\n",
       "      <td>0.956574</td>\n",
       "      <td>0.0</td>\n",
       "      <td>0.943835</td>\n",
       "      <td>0.0</td>\n",
       "    </tr>\n",
       "    <tr>\n",
       "      <th>2014-03-18</th>\n",
       "      <td>3002.725830</td>\n",
       "      <td>-0.025231</td>\n",
       "      <td>-1.0</td>\n",
       "      <td>1.027610</td>\n",
       "      <td>0.0</td>\n",
       "      <td>0.993590</td>\n",
       "      <td>0.0</td>\n",
       "      <td>0.982629</td>\n",
       "      <td>0.0</td>\n",
       "      <td>0.969974</td>\n",
       "      <td>0.0</td>\n",
       "    </tr>\n",
       "    <tr>\n",
       "      <th>2014-03-19</th>\n",
       "      <td>2994.952881</td>\n",
       "      <td>-0.002589</td>\n",
       "      <td>-1.0</td>\n",
       "      <td>1.029585</td>\n",
       "      <td>0.0</td>\n",
       "      <td>0.998332</td>\n",
       "      <td>0.0</td>\n",
       "      <td>0.986073</td>\n",
       "      <td>0.0</td>\n",
       "      <td>0.973979</td>\n",
       "      <td>0.0</td>\n",
       "    </tr>\n",
       "    <tr>\n",
       "      <th>2014-03-20</th>\n",
       "      <td>2914.638672</td>\n",
       "      <td>-0.026817</td>\n",
       "      <td>-1.0</td>\n",
       "      <td>1.042489</td>\n",
       "      <td>0.0</td>\n",
       "      <td>1.024698</td>\n",
       "      <td>0.0</td>\n",
       "      <td>1.013156</td>\n",
       "      <td>0.0</td>\n",
       "      <td>1.002187</td>\n",
       "      <td>0.0</td>\n",
       "    </tr>\n",
       "    <tr>\n",
       "      <th>2014-03-21</th>\n",
       "      <td>2914.638672</td>\n",
       "      <td>0.000000</td>\n",
       "      <td>0.0</td>\n",
       "      <td>1.022933</td>\n",
       "      <td>0.0</td>\n",
       "      <td>1.024317</td>\n",
       "      <td>0.0</td>\n",
       "      <td>1.013037</td>\n",
       "      <td>0.0</td>\n",
       "      <td>1.003556</td>\n",
       "      <td>0.0</td>\n",
       "    </tr>\n",
       "  </tbody>\n",
       "</table>\n",
       "</div>"
      ],
      "text/plain": [
       "                  Today  pct change  direction       ma5  rsi5      ma14  \\\n",
       "Date                                                                       \n",
       "2014-03-17  3080.449463   -0.037247       -1.0  0.998318   0.0  0.966238   \n",
       "2014-03-18  3002.725830   -0.025231       -1.0  1.027610   0.0  0.993590   \n",
       "2014-03-19  2994.952881   -0.002589       -1.0  1.029585   0.0  0.998332   \n",
       "2014-03-20  2914.638672   -0.026817       -1.0  1.042489   0.0  1.024698   \n",
       "2014-03-21  2914.638672    0.000000        0.0  1.022933   0.0  1.024317   \n",
       "\n",
       "            rsi14      ma30  rsi30      ma50  rsi50  \n",
       "Date                                                 \n",
       "2014-03-17    0.0  0.956574    0.0  0.943835    0.0  \n",
       "2014-03-18    0.0  0.982629    0.0  0.969974    0.0  \n",
       "2014-03-19    0.0  0.986073    0.0  0.973979    0.0  \n",
       "2014-03-20    0.0  1.013156    0.0  1.002187    0.0  \n",
       "2014-03-21    0.0  1.013037    0.0  1.003556    0.0  "
      ]
     },
     "execution_count": 11,
     "metadata": {},
     "output_type": "execute_result"
    }
   ],
   "source": [
    "data.head()"
   ]
  },
  {
   "cell_type": "code",
   "execution_count": 12,
   "metadata": {},
   "outputs": [],
   "source": [
    "data.drop(['Today', 'pct change'], axis = 1, inplace = True)"
   ]
  },
  {
   "cell_type": "code",
   "execution_count": 13,
   "metadata": {},
   "outputs": [
    {
     "data": {
      "text/plain": [
       "direction    0\n",
       "ma5          0\n",
       "rsi5         0\n",
       "ma14         0\n",
       "rsi14        0\n",
       "ma30         0\n",
       "rsi30        0\n",
       "ma50         0\n",
       "rsi50        0\n",
       "dtype: int64"
      ]
     },
     "execution_count": 13,
     "metadata": {},
     "output_type": "execute_result"
    }
   ],
   "source": [
    "data.isna().sum()"
   ]
  },
  {
   "cell_type": "code",
   "execution_count": 14,
   "metadata": {},
   "outputs": [],
   "source": [
    "y = data['direction']"
   ]
  },
  {
   "cell_type": "code",
   "execution_count": 15,
   "metadata": {},
   "outputs": [],
   "source": [
    "x = data.drop('direction', axis = 1)"
   ]
  },
  {
   "cell_type": "code",
   "execution_count": 16,
   "metadata": {},
   "outputs": [],
   "source": [
    "ratio = 0.8\n",
    "param = int(len(data)*ratio)\n",
    "x_train = x[:param]\n",
    "x_test = x[param:]\n",
    "y_train = y[:param]\n",
    "y_test = y[param:]"
   ]
  },
  {
   "cell_type": "markdown",
   "metadata": {},
   "source": [
    "### KNN"
   ]
  },
  {
   "cell_type": "code",
   "execution_count": 17,
   "metadata": {},
   "outputs": [],
   "source": [
    "from sklearn.neighbors import KNeighborsClassifier\n",
    "from sklearn.linear_model import LogisticRegression\n",
    "from sklearn.svm import LinearSVC"
   ]
  },
  {
   "cell_type": "code",
   "execution_count": 18,
   "metadata": {},
   "outputs": [
    {
     "name": "stdout",
     "output_type": "stream",
     "text": [
      "Accuracy of kNN model: 0.643\n",
      "Confusion matrix: \n",
      "[[103   7  40]\n",
      " [  1   2   7]\n",
      " [ 33  17  84]]\n"
     ]
    }
   ],
   "source": [
    "model = KNeighborsClassifier()\n",
    "model.fit(x_train, y_train)\n",
    "pred = model.predict(x_test)\n",
    "print(\"Accuracy of kNN model: %0.3f\" % model.score(x_test, y_test))\n",
    "print(\"Confusion matrix: \\n%s\" % confusion_matrix(pred, y_test))    "
   ]
  },
  {
   "cell_type": "code",
   "execution_count": 19,
   "metadata": {},
   "outputs": [
    {
     "data": {
      "text/plain": [
       "0"
      ]
     },
     "execution_count": 19,
     "metadata": {},
     "output_type": "execute_result"
    }
   ],
   "source": [
    "y_train.isna().sum()"
   ]
  },
  {
   "cell_type": "code",
   "execution_count": 20,
   "metadata": {},
   "outputs": [
    {
     "data": {
      "text/plain": [
       "ma5      0\n",
       "rsi5     0\n",
       "ma14     0\n",
       "rsi14    0\n",
       "ma30     0\n",
       "rsi30    0\n",
       "ma50     0\n",
       "rsi50    0\n",
       "dtype: int64"
      ]
     },
     "execution_count": 20,
     "metadata": {},
     "output_type": "execute_result"
    }
   ],
   "source": [
    "x_train.isna().sum()"
   ]
  },
  {
   "cell_type": "code",
   "execution_count": 21,
   "metadata": {},
   "outputs": [
    {
     "name": "stdout",
     "output_type": "stream",
     "text": [
      "Accuracy of kNN model: 0.643\n",
      "Confusion matrix: \n",
      "[[103   7  40]\n",
      " [  1   2   7]\n",
      " [ 33  17  84]]\n"
     ]
    }
   ],
   "source": [
    "model = KNeighborsClassifier()\n",
    "model.fit(x_train, y_train)\n",
    "pred = model.predict(x_test)\n",
    "print(\"Accuracy of kNN model: %0.3f\" % model.score(x_test, y_test))\n",
    "print(\"Confusion matrix: \\n%s\" % confusion_matrix(pred, y_test))"
   ]
  },
  {
   "cell_type": "markdown",
   "metadata": {},
   "source": [
    "### Logistic Regression"
   ]
  },
  {
   "cell_type": "code",
   "execution_count": null,
   "metadata": {},
   "outputs": [],
   "source": []
  },
  {
   "cell_type": "code",
   "execution_count": 22,
   "metadata": {},
   "outputs": [],
   "source": [
    "model = LogisticRegression()"
   ]
  },
  {
   "cell_type": "code",
   "execution_count": 23,
   "metadata": {},
   "outputs": [
    {
     "name": "stderr",
     "output_type": "stream",
     "text": [
      "/anaconda3/lib/python3.7/site-packages/sklearn/linear_model/logistic.py:432: FutureWarning: Default solver will be changed to 'lbfgs' in 0.22. Specify a solver to silence this warning.\n",
      "  FutureWarning)\n",
      "/anaconda3/lib/python3.7/site-packages/sklearn/linear_model/logistic.py:469: FutureWarning: Default multi_class will be changed to 'auto' in 0.22. Specify the multi_class option to silence this warning.\n",
      "  \"this warning.\", FutureWarning)\n"
     ]
    },
    {
     "data": {
      "text/plain": [
       "LogisticRegression(C=1.0, class_weight=None, dual=False, fit_intercept=True,\n",
       "                   intercept_scaling=1, l1_ratio=None, max_iter=100,\n",
       "                   multi_class='warn', n_jobs=None, penalty='l2',\n",
       "                   random_state=None, solver='warn', tol=0.0001, verbose=0,\n",
       "                   warm_start=False)"
      ]
     },
     "execution_count": 23,
     "metadata": {},
     "output_type": "execute_result"
    }
   ],
   "source": [
    "model.fit(x_train, y_train)"
   ]
  },
  {
   "cell_type": "code",
   "execution_count": 24,
   "metadata": {},
   "outputs": [],
   "source": [
    "pred = model.predict(x_test)"
   ]
  },
  {
   "cell_type": "code",
   "execution_count": 25,
   "metadata": {},
   "outputs": [
    {
     "name": "stdout",
     "output_type": "stream",
     "text": [
      "Accuracy of logistic regression model: 0.571\n",
      "Confusion matrix: \n",
      "[[84  7 47]\n",
      " [ 0  0  0]\n",
      " [53 19 84]]\n"
     ]
    }
   ],
   "source": [
    "print(\"Accuracy of logistic regression model: %0.3f\" % model.score(x_test, y_test))\n",
    "print(\"Confusion matrix: \\n%s\" % confusion_matrix(pred, y_test))"
   ]
  },
  {
   "cell_type": "markdown",
   "metadata": {},
   "source": [
    "### SVM"
   ]
  },
  {
   "cell_type": "code",
   "execution_count": 26,
   "metadata": {},
   "outputs": [
    {
     "name": "stdout",
     "output_type": "stream",
     "text": [
      "Accuracy of SVM model: 0.636\n",
      "Confusion matrix: \n",
      "[[97  7 41]\n",
      " [ 0  0  0]\n",
      " [40 19 90]]\n"
     ]
    }
   ],
   "source": [
    "model = LinearSVC()\n",
    "model.fit(x_train, y_train)\n",
    "pred = model.predict(x_test)\n",
    "print(\"Accuracy of SVM model: %0.3f\" % model.score(x_test, y_test))\n",
    "print(\"Confusion matrix: \\n%s\" % confusion_matrix(pred, y_test))"
   ]
  },
  {
   "cell_type": "markdown",
   "metadata": {},
   "source": [
    "### SVM 2"
   ]
  },
  {
   "cell_type": "code",
   "execution_count": 28,
   "metadata": {},
   "outputs": [
    {
     "name": "stdout",
     "output_type": "stream",
     "text": [
      "Accuracy of SVM model: 0.721\n",
      "Confusion matrix: \n",
      "[[117   8  36]\n",
      " [  0   0   0]\n",
      " [ 20  18  95]]\n"
     ]
    }
   ],
   "source": [
    "from sklearn.svm import SVC\n",
    "model = SVC(C=1000000.0, cache_size=200,class_weight=None,coef0=0.0,\n",
    "            degree=3,gamma=0.0001,kernel='rbf',\n",
    "            max_iter=-1,probability=False,\n",
    "            random_state=None,shrinking=True,tol=0.001,verbose=False)\n",
    "model.fit(x_train, y_train)\n",
    "pred = model.predict(x_test)\n",
    "print(\"Accuracy of SVM model: %0.3f\" % model.score(x_test, y_test))\n",
    "print(\"Confusion matrix: \\n%s\" % confusion_matrix(pred, y_test))"
   ]
  }
 ],
 "metadata": {
  "kernelspec": {
   "display_name": "Python 3",
   "language": "python",
   "name": "python3"
  },
  "language_info": {
   "codemirror_mode": {
    "name": "ipython",
    "version": 3
   },
   "file_extension": ".py",
   "mimetype": "text/x-python",
   "name": "python",
   "nbconvert_exporter": "python",
   "pygments_lexer": "ipython3",
   "version": "3.7.1"
  }
 },
 "nbformat": 4,
 "nbformat_minor": 2
}
